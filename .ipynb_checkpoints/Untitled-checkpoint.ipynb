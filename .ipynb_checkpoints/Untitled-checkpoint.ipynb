{
 "cells": [
  {
   "cell_type": "code",
   "execution_count": 38,
   "id": "4ffbcbd1-81b7-4222-ba7c-763713ca49b1",
   "metadata": {},
   "outputs": [],
   "source": [
    "import boto3\n",
    "s3_client = boto3.client(\n",
    "    \"s3\",\n",
    "    \"us-east-1\",\n",
    "    aws_access_key_id = \"ZZ0JLR12PPW4410IW3G9\",\n",
    "    aws_secret_access_key = \"yBUSPjz6OxKcIChDGQ0Cd1I7o9Av4bZYZJYT3CJJ\",\n",
    "    endpoint_url= \"http://rook-ceph-rgw-my-store-rook-ceph.apps.k8spro.nextret.net:8080\",\n",
    "    use_ssl= False,\n",
    "    verify= False\n",
    ")\n",
    "\n",
    "#my_bucket = s3_client.Bucket('ccma-pre')"
   ]
  },
  {
   "cell_type": "code",
   "execution_count": 39,
   "id": "ab640b92-0f2d-4162-8d2f-dd4d4fdbc9f0",
   "metadata": {},
   "outputs": [],
   "source": [
    "bucket_name = \"ccma-pre\"\n",
    "prefix=\"enterprise/zapping/tables/\"\n",
    "s3_result =  s3_client.list_objects_v2(Bucket=bucket_name, Prefix=prefix, Delimiter = \"/\")\n"
   ]
  },
  {
   "cell_type": "code",
   "execution_count": 41,
   "id": "7cffe308-a09e-4b5b-8858-fc6d1d5ef601",
   "metadata": {},
   "outputs": [
    {
     "name": "stdout",
     "output_type": "stream",
     "text": [
      "[['hive'], ['system'], ['tpcds'], ['tpch']]\n"
     ]
    }
   ],
   "source": [
    "from trino.dbapi import trino\n",
    "\n",
    "conn = trino.dbapi.connect(\n",
    "        host='trino.apps.k8spro.nextret.net',\n",
    "        port=31858,\n",
    "        catalog=\"hive\",\n",
    "        user='admin')\n",
    "query = \"SHOW catalogs\"    \n",
    "cur = conn.cursor()\n",
    "cur.execute(query)\n",
    "rows = cur.fetchall()\n",
    "print(rows)\n"
   ]
  },
  {
   "cell_type": "code",
   "execution_count": 50,
   "id": "631c8de7-f8db-44e4-ad04-85520062e7c9",
   "metadata": {},
   "outputs": [
    {
     "name": "stdout",
     "output_type": "stream",
     "text": [
      "enterprise/zapping/tables/Control_Tables.hql\n",
      "---------- ok -------------\n",
      "---------- ok -------------\n",
      "enterprise/zapping/tables/ccma_canals_kantar.hql\n",
      "Error executing Trino query: TrinoUserError(type=USER_ERROR, name=QUERY_HAS_TOO_MANY_STAGES, message=\"Number of stages in the query (328) exceeds the allowed maximum (150). If the query contains multiple aggregates with DISTINCT over different columns, please set the 'use_mark_distinct' session property to false. If the query contains WITH clauses that are referenced more than once, please create temporary table(s) for the queries in those clauses.\", query_id=20230504_061216_00047_uuybf)\n",
      "enterprise/zapping/tables/external_table_aux_hbbtv_ip_perfilat_programes_first.hql\n",
      "---------- ok -------------\n",
      "enterprise/zapping/tables/external_table_aux_hbbtv_ip_perfilat_programes_last.hql\n",
      "---------- ok -------------\n",
      "enterprise/zapping/tables/external_table_gfk.hql\n",
      "---------- ok -------------\n",
      "enterprise/zapping/tables/external_table_graella.hql\n",
      "Error executing Trino query: TrinoUserError(type=USER_ERROR, name=INVALID_TABLE_PROPERTY, message=\"textfile_field_separator must be a single character string, but was: '\\t'\", query_id=20230504_061218_00051_uuybf)\n",
      "enterprise/zapping/tables/external_table_graella_kantar.hql\n",
      "---------- ok -------------\n",
      "enterprise/zapping/tables/external_table_hbbtv_ip_abandonament.hql\n",
      "---------- ok -------------\n",
      "enterprise/zapping/tables/external_table_hbbtv_ip_agregats.hql\n",
      "---------- ok -------------\n",
      "enterprise/zapping/tables/external_table_hbbtv_ip_ccma_graella_visualitzacions.hql\n",
      "---------- ok -------------\n",
      "enterprise/zapping/tables/external_table_hbbtv_ip_perfilat_programes.hql\n",
      "---------- ok -------------\n",
      "enterprise/zapping/tables/external_table_hbbtv_ip_rebots.hql\n",
      "---------- ok -------------\n",
      "enterprise/zapping/tables/external_table_hbbtv_ip_sortides.hql\n",
      "---------- ok -------------\n",
      "enterprise/zapping/tables/external_table_kantar_abandonament.hql\n",
      "---------- ok -------------\n",
      "enterprise/zapping/tables/external_table_kantar_agregats.hql\n",
      "---------- ok -------------\n",
      "enterprise/zapping/tables/external_table_kantar_graella_visualitzacions.hql\n",
      "---------- ok -------------\n",
      "enterprise/zapping/tables/external_table_kantar_perfilat_programes.hql\n",
      "---------- ok -------------\n",
      "enterprise/zapping/tables/external_table_kantar_rebots.hql\n",
      "---------- ok -------------\n",
      "enterprise/zapping/tables/external_table_kantar_sortides.hql\n",
      "---------- ok -------------\n",
      "enterprise/zapping/tables/external_tables_kantar_iaad.hql\n",
      "Error executing Trino query: TrinoUserError(type=USER_ERROR, name=TABLE_NOT_FOUND, message=\"line 1:1: Table 'hive.ccma_analytics.kantar_audiencies_diferits' does not exist\", query_id=20230504_061225_00065_uuybf)\n",
      "Error executing Trino query: TrinoUserError(type=USER_ERROR, name=SYNTAX_ERROR, message=\"line 21:113: mismatched input '['. Expecting: 'DEFAULT', <expression>\", query_id=20230504_061225_00066_uuybf)\n",
      "Error executing Trino query: TrinoUserError(type=USER_ERROR, name=TABLE_NOT_FOUND, message=\"line 3:1: Table 'hive.ccma_analytics.kantar_audiencies_directes' does not exist\", query_id=20230504_061225_00067_uuybf)\n",
      "Error executing Trino query: TrinoUserError(type=USER_ERROR, name=SYNTAX_ERROR, message=\"line 19:110: mismatched input '['. Expecting: 'DEFAULT', <expression>\", query_id=20230504_061225_00068_uuybf)\n",
      "Error executing Trino query: TrinoUserError(type=USER_ERROR, name=SYNTAX_ERROR, message=\"line 196:110: mismatched input '['. Expecting: 'DEFAULT', <expression>\", query_id=20230504_061225_00069_uuybf)\n",
      "enterprise/zapping/tables/external_tables_kantar_iapd.hql\n",
      "Error executing Trino query: TrinoUserError(type=USER_ERROR, name=SYNTAX_ERROR, message=\"line 12:123: mismatched input '['. Expecting: 'DEFAULT', <expression>\", query_id=20230504_061225_00070_uuybf)\n",
      "Error executing Trino query: TrinoUserError(type=USER_ERROR, name=SYNTAX_ERROR, message=\"line 14:116: mismatched input '['. Expecting: 'DEFAULT', <expression>\", query_id=20230504_061226_00071_uuybf)\n",
      "Error executing Trino query: TrinoUserError(type=USER_ERROR, name=SYNTAX_ERROR, message=\"line 51:113: mismatched input '['. Expecting: 'DEFAULT', <expression>\", query_id=20230504_061226_00072_uuybf)\n",
      "Error executing Trino query: TrinoUserError(type=USER_ERROR, name=SYNTAX_ERROR, message=\"line 14:127: mismatched input '['. Expecting: 'DEFAULT', <expression>\", query_id=20230504_061226_00073_uuybf)\n",
      "Error executing Trino query: TrinoUserError(type=USER_ERROR, name=SYNTAX_ERROR, message=\"line 51:113: mismatched input '['. Expecting: 'DEFAULT', <expression>\", query_id=20230504_061226_00074_uuybf)\n",
      "Error executing Trino query: TrinoUserError(type=USER_ERROR, name=SYNTAX_ERROR, message=\"line 16:113: mismatched input '['. Expecting: 'DEFAULT', <expression>\", query_id=20230504_061226_00075_uuybf)\n",
      "enterprise/zapping/tables/external_tables_kantar_mp.hql\n",
      "Error executing Trino query: TrinoUserError(type=USER_ERROR, name=SYNTAX_ERROR, message=\"line 11:115: mismatched input '['. Expecting: 'DEFAULT', <expression>\", query_id=20230504_061226_00076_uuybf)\n",
      "Error executing Trino query: TrinoUserError(type=USER_ERROR, name=SYNTAX_ERROR, message=\"line 13:121: mismatched input '['. Expecting: 'DEFAULT', <expression>\", query_id=20230504_061226_00077_uuybf)\n",
      "Error executing Trino query: TrinoUserError(type=USER_ERROR, name=SYNTAX_ERROR, message=\"line 15:124: mismatched input '['. Expecting: 'DEFAULT', <expression>\", query_id=20230504_061226_00078_uuybf)\n",
      "Error executing Trino query: TrinoUserError(type=USER_ERROR, name=SYNTAX_ERROR, message=\"line 14:122: mismatched input '['. Expecting: 'DEFAULT', <expression>\", query_id=20230504_061226_00079_uuybf)\n",
      "Error executing Trino query: TrinoUserError(type=USER_ERROR, name=SYNTAX_ERROR, message=\"line 15:111: mismatched input '['. Expecting: 'DEFAULT', <expression>\", query_id=20230504_061226_00080_uuybf)\n",
      "Error executing Trino query: TrinoUserError(type=USER_ERROR, name=SYNTAX_ERROR, message=\"line 14:119: mismatched input '['. Expecting: 'DEFAULT', <expression>\", query_id=20230504_061226_00081_uuybf)\n",
      "Error executing Trino query: TrinoUserError(type=USER_ERROR, name=SYNTAX_ERROR, message=\"line 12:111: mismatched input '['. Expecting: 'DEFAULT', <expression>\", query_id=20230504_061226_00082_uuybf)\n",
      "Error executing Trino query: TrinoUserError(type=USER_ERROR, name=SYNTAX_ERROR, message=\"line 12:111: mismatched input '['. Expecting: 'DEFAULT', <expression>\", query_id=20230504_061226_00083_uuybf)\n",
      "Error executing Trino query: TrinoUserError(type=USER_ERROR, name=SYNTAX_ERROR, message=\"line 12:111: mismatched input '['. Expecting: 'DEFAULT', <expression>\", query_id=20230504_061226_00084_uuybf)\n",
      "Error executing Trino query: TrinoUserError(type=USER_ERROR, name=SYNTAX_ERROR, message=\"line 13:114: mismatched input '['. Expecting: 'DEFAULT', <expression>\", query_id=20230504_061227_00085_uuybf)\n",
      "Error executing Trino query: TrinoUserError(type=USER_ERROR, name=SYNTAX_ERROR, message=\"line 14:119: mismatched input '['. Expecting: 'DEFAULT', <expression>\", query_id=20230504_061227_00086_uuybf)\n",
      "Error executing Trino query: TrinoUserError(type=USER_ERROR, name=SYNTAX_ERROR, message=\"line 14:119: mismatched input '['. Expecting: 'DEFAULT', <expression>\", query_id=20230504_061227_00087_uuybf)\n",
      "Error executing Trino query: TrinoUserError(type=USER_ERROR, name=SYNTAX_ERROR, message=\"line 12:111: mismatched input '['. Expecting: 'DEFAULT', <expression>\", query_id=20230504_061227_00088_uuybf)\n",
      "Error executing Trino query: TrinoUserError(type=USER_ERROR, name=SYNTAX_ERROR, message=\"line 13:127: mismatched input '['. Expecting: 'DEFAULT', <expression>\", query_id=20230504_061227_00089_uuybf)\n",
      "Error executing Trino query: TrinoUserError(type=USER_ERROR, name=SYNTAX_ERROR, message=\"line 11:111: mismatched input '['. Expecting: 'DEFAULT', <expression>\", query_id=20230504_061227_00090_uuybf)\n",
      "Error executing Trino query: TrinoUserError(type=USER_ERROR, name=SYNTAX_ERROR, message=\"line 14:120: mismatched input '['. Expecting: 'DEFAULT', <expression>\", query_id=20230504_061227_00091_uuybf)\n",
      "Error executing Trino query: TrinoUserError(type=USER_ERROR, name=SYNTAX_ERROR, message=\"line 11:124: mismatched input '['. Expecting: 'DEFAULT', <expression>\", query_id=20230504_061227_00092_uuybf)\n",
      "Error executing Trino query: TrinoUserError(type=USER_ERROR, name=SYNTAX_ERROR, message=\"line 10:128: mismatched input '['. Expecting: 'DEFAULT', <expression>\", query_id=20230504_061227_00093_uuybf)\n",
      "Error executing Trino query: TrinoUserError(type=USER_ERROR, name=SYNTAX_ERROR, message=\"line 21:115: mismatched input '['. Expecting: 'DEFAULT', <expression>\", query_id=20230504_061227_00094_uuybf)\n",
      "Error executing Trino query: TrinoUserError(type=USER_ERROR, name=SYNTAX_ERROR, message=\"line 13:125: mismatched input '['. Expecting: 'DEFAULT', <expression>\", query_id=20230504_061227_00095_uuybf)\n",
      "enterprise/zapping/tables/external_tables_pgfk_vgfk.hql\n",
      "Error executing Trino query: TrinoUserError(type=USER_ERROR, name=SYNTAX_ERROR, message=\"line 13:107: mismatched input '['. Expecting: 'DEFAULT', <expression>\", query_id=20230504_061227_00096_uuybf)\n",
      "Error executing Trino query: TrinoUserError(type=USER_ERROR, name=SYNTAX_ERROR, message=\"line 36:107: mismatched input '['. Expecting: 'DEFAULT', <expression>\", query_id=20230504_061228_00097_uuybf)\n",
      "enterprise/zapping/tables/table_dictionary.hql\n",
      "---------- ok -------------\n",
      "---------- ok -------------\n",
      "---------- ok -------------\n",
      "---------- ok -------------\n",
      "---------- ok -------------\n"
     ]
    }
   ],
   "source": [
    " for key in s3_result['Contents']:\n",
    "        key_path = key['Key']\n",
    "        response = s3_client.get_object(Bucket=bucket_name, Key=key_path)\n",
    "        file_content = response['Body'].read().decode('utf-8')\n",
    "        print(key_path)\n",
    "        file_content = file_content.replace(\"${baseLocation}\", \"s3a://\" + bucket_name)\n",
    "        for query in file_content.split(\";\"):\n",
    "                if(len(query) > 5):\n",
    "                    query = query.replace(\"EXTERNAL\", \"\")\n",
    "                    #print(\"query\", query)\n",
    "                    try:\n",
    "                        cur.execute(query)\n",
    "                        rows = cur.fetchall()\n",
    "                        print(\"---------- ok -------------\")\n",
    "                    except trino.dbapi.Error as e:\n",
    "                        print(f'Error executing Trino query: {e}')"
   ]
  }
 ],
 "metadata": {
  "kernelspec": {
   "display_name": "Python 3 (ipykernel)",
   "language": "python",
   "name": "python3"
  },
  "language_info": {
   "codemirror_mode": {
    "name": "ipython",
    "version": 3
   },
   "file_extension": ".py",
   "mimetype": "text/x-python",
   "name": "python",
   "nbconvert_exporter": "python",
   "pygments_lexer": "ipython3",
   "version": "3.9.6"
  }
 },
 "nbformat": 4,
 "nbformat_minor": 5
}
