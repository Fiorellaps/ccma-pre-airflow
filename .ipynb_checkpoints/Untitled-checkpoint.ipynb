{
 "cells": [
  {
   "cell_type": "code",
   "execution_count": 1,
   "id": "4ffbcbd1-81b7-4222-ba7c-763713ca49b1",
   "metadata": {},
   "outputs": [],
   "source": [
    "import boto3\n",
    "s3_client = boto3.client(\n",
    "    \"s3\",\n",
    "    \"us-east-1\",\n",
    "    aws_access_key_id = \"ZZ0JLR12PPW4410IW3G9\",\n",
    "    aws_secret_access_key = \"yBUSPjz6OxKcIChDGQ0Cd1I7o9Av4bZYZJYT3CJJ\",\n",
    "    endpoint_url= \"http://rook-ceph-rgw-my-store-rook-ceph.apps.k8spro.nextret.net:8080\",\n",
    "    use_ssl= False,\n",
    "    verify= False\n",
    ")\n",
    "\n",
    "#my_bucket = s3_client.Bucket('ccma-pre')"
   ]
  },
  {
   "cell_type": "code",
   "execution_count": 1,
   "id": "2d961234-a1db-465e-99ce-44b079f8b240",
   "metadata": {},
   "outputs": [],
   "source": [
    "import boto3\n",
    "s3_client = boto3.client(\n",
    "    \"s3\",\n",
    "    \"us-east-1\",\n",
    "    aws_access_key_id = \"OHM625HESZAWYZY01OI7\",\n",
    "    aws_secret_access_key = \"Qny9KjC27SfNJ0NPp2nFVXFEEnBKL2LifgrlL9en\",\n",
    "    endpoint_url= \"http://10.254.188.84:80\",\n",
    "    use_ssl= False,\n",
    "    verify= False\n",
    ")\n",
    "\n",
    "#my_bucket = s3_client.Bucket('ccma-pre')"
   ]
  },
  {
   "cell_type": "code",
   "execution_count": 2,
   "id": "5ba131dc-3c4c-4b49-b3a1-edcfdc940229",
   "metadata": {},
   "outputs": [
    {
     "data": {
      "text/plain": [
       "[{'Key': 'ingestion/dades_svc_cloudera/formacio/2020/08/13/T_UE.csv',\n",
       "  'LastModified': datetime.datetime(2023, 4, 5, 12, 27, 17, 751000, tzinfo=tzutc()),\n",
       "  'ETag': '\"c8bab6ec63ac049964be58b65d60fc66\"',\n",
       "  'Size': 81,\n",
       "  'StorageClass': 'STANDARD'}]"
      ]
     },
     "execution_count": 2,
     "metadata": {},
     "output_type": "execute_result"
    }
   ],
   "source": [
    "bucket_name = \"cityos\"\n",
    "prefix=\"ingestion/dades_svc_cloudera/formacio/2020/08/13/T_UE.csv\"\n",
    "s3_result =  s3_client.list_objects_v2(Bucket=bucket_name, Prefix=prefix, Delimiter = \"/\")\n",
    "s3_result['Contents']"
   ]
  },
  {
   "cell_type": "code",
   "execution_count": 18,
   "id": "34471643-5a79-469d-9287-d7dad0d3e7c9",
   "metadata": {},
   "outputs": [
    {
     "data": {
      "text/plain": [
       "'\\nquery = \"SHOW SESSION\"    \\ncur = conn.cursor()\\ncur.execute(query)\\nrows = cur.fetchall()\\nprint(rows)'"
      ]
     },
     "execution_count": 18,
     "metadata": {},
     "output_type": "execute_result"
    }
   ],
   "source": [
    "'''query = \"SET SESSION task_concurrency = 4\"    \n",
    "cur = conn.cursor()\n",
    "cur.execute(query)\n",
    "rows = cur.fetchall()\n",
    "print(rows)\n",
    "'''\n",
    "'''\n",
    "query = \"SHOW SESSION\"    \n",
    "cur = conn.cursor()\n",
    "cur.execute(query)\n",
    "rows = cur.fetchall()\n",
    "print(rows)'''"
   ]
  },
  {
   "cell_type": "code",
   "execution_count": 33,
   "id": "7cffe308-a09e-4b5b-8858-fc6d1d5ef601",
   "metadata": {},
   "outputs": [
    {
     "name": "stdout",
     "output_type": "stream",
     "text": [
      "[['hive'], ['system'], ['tpcds'], ['tpch']]\n"
     ]
    }
   ],
   "source": [
    "from trino.dbapi import trino\n",
    "\n",
    "conn = trino.dbapi.connect(\n",
    "        host='trino.apps.k8spro.nextret.net',\n",
    "        port=32056,\n",
    "        catalog=\"hive\",\n",
    "        user='hue')\n",
    "query = \"SHOW catalogs\"    \n",
    "cur = conn.cursor()\n",
    "cur.execute(query)\n",
    "rows = cur.fetchall()\n",
    "print(rows)\n"
   ]
  },
  {
   "cell_type": "code",
   "execution_count": 6,
   "id": "ab640b92-0f2d-4162-8d2f-dd4d4fdbc9f0",
   "metadata": {},
   "outputs": [],
   "source": [
    "bucket_name = \"ccma-pre\"\n",
    "#prefix=\"enterprise/zapping/queries/insert_incremental_kantar_graella_visualitzacions_new.hql\"\n",
    "prefix=\"enterprise/zapping/queries/\"\n",
    "\n",
    "s3_result =  s3_client.list_objects_v2(Bucket=bucket_name, Prefix=prefix, Delimiter = \"/\")"
   ]
  },
  {
   "cell_type": "code",
   "execution_count": 4,
   "id": "631c8de7-f8db-44e4-ad04-85520062e7c9",
   "metadata": {},
   "outputs": [
    {
     "ename": "KeyError",
     "evalue": "'Contents'",
     "output_type": "error",
     "traceback": [
      "\u001b[1;31m---------------------------------------------------------------------------\u001b[0m",
      "\u001b[1;31mKeyError\u001b[0m                                  Traceback (most recent call last)",
      "Cell \u001b[1;32mIn [4], line 1\u001b[0m\n\u001b[1;32m----> 1\u001b[0m \u001b[38;5;28;01mfor\u001b[39;00m key \u001b[38;5;129;01min\u001b[39;00m \u001b[43ms3_result\u001b[49m\u001b[43m[\u001b[49m\u001b[38;5;124;43m'\u001b[39;49m\u001b[38;5;124;43mContents\u001b[39;49m\u001b[38;5;124;43m'\u001b[39;49m\u001b[43m]\u001b[49m:\n\u001b[0;32m      2\u001b[0m        key_path \u001b[38;5;241m=\u001b[39m key[\u001b[38;5;124m'\u001b[39m\u001b[38;5;124mKey\u001b[39m\u001b[38;5;124m'\u001b[39m]\n\u001b[0;32m      3\u001b[0m        response \u001b[38;5;241m=\u001b[39m s3_client\u001b[38;5;241m.\u001b[39mget_object(Bucket\u001b[38;5;241m=\u001b[39mbucket_name, Key\u001b[38;5;241m=\u001b[39mkey_path)\n",
      "\u001b[1;31mKeyError\u001b[0m: 'Contents'"
     ]
    }
   ],
   "source": [
    " for key in s3_result['Contents']:\n",
    "        key_path = key['Key']\n",
    "        response = s3_client.get_object(Bucket=bucket_name, Key=key_path)\n",
    "        file_content = response['Body'].read().decode('utf-8')\n",
    "        print(key_path)\n",
    "        file_content = file_content.replace(\"${baseLocation}\", \"s3a://\" + bucket_name)\n",
    "        for query in file_content.split(\";\"):\n",
    "                if(len(query) > 5):\n",
    "                    query = query.replace(\"EXTERNAL\", \"\")\n",
    "                    #print(\"------query\", query)\n",
    "                    \n",
    "                    try:\n",
    "                        cur.execute(query)\n",
    "                        rows = cur.fetchall()\n",
    "                        print(rows)\n",
    "                    except trino.dbapi.Error as e:\n",
    "                        print(f'Error executing Trino query: {e}')"
   ]
  }
 ],
 "metadata": {
  "kernelspec": {
   "display_name": "Python 3 (ipykernel)",
   "language": "python",
   "name": "python3"
  },
  "language_info": {
   "codemirror_mode": {
    "name": "ipython",
    "version": 3
   },
   "file_extension": ".py",
   "mimetype": "text/x-python",
   "name": "python",
   "nbconvert_exporter": "python",
   "pygments_lexer": "ipython3",
   "version": "3.9.6"
  }
 },
 "nbformat": 4,
 "nbformat_minor": 5
}
